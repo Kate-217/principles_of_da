{
 "cells": [
  {
   "cell_type": "markdown",
   "metadata": {},
   "source": [
    "# Analysis of the Palmer penguin dataset\n",
    "*************"
   ]
  },
  {
   "cell_type": "markdown",
   "metadata": {},
   "source": [
    "The original dataset was taken from the official Github [page](https://allisonhorst.github.io/palmerpenguins/). \n",
    "\n",
    "![pinguins_img](images/palmerpenguins.png)"
   ]
  },
  {
   "cell_type": "markdown",
   "metadata": {},
   "source": [
    "The data were collected from 2007 - 2009 by Dr. Kristen Gorman with the Palmer Station Long Term Ecological Research Program, part of the US Long Term Ecological Research Network. The Palmer penguins data contains size measurements for three penguin species observed on three islands in the Palmer Archipelago, Antarctica."
   ]
  },
  {
   "cell_type": "markdown",
   "metadata": {},
   "source": [
    "## The goal of the analysis"
   ]
  },
  {
   "cell_type": "markdown",
   "metadata": {},
   "source": [
    "The aim of this project is to analyze a dataset using Python. The objective is to identify suitable variables that can effectively analyze the data. By creating bar charts, histograms, and other types of visualizations, the project aims to provide insights into the dataset through visualization.\n",
    "\n",
    "*Please note that I have included the references for the articles and resources I used in the README file. Further I will mark them with numbers in square brackets.*\n",
    "*******"
   ]
  },
  {
   "cell_type": "markdown",
   "metadata": {},
   "source": [
    "## Import the dataset and the libraries"
   ]
  },
  {
   "cell_type": "code",
   "execution_count": 178,
   "metadata": {},
   "outputs": [],
   "source": [
    "# import  libraries\n",
    "import pandas as pd # for working with dataframes\n",
    "import numpy as np # for working with arrays and creating some visualisations and calculations\n",
    "import matplotlib.pyplot as plt # for plotting \n",
    "import seaborn as sns # for some visualisations"
   ]
  },
  {
   "cell_type": "code",
   "execution_count": 179,
   "metadata": {},
   "outputs": [],
   "source": [
    "# download the data set \n",
    "data = pd.read_csv(\"https://raw.githubusercontent.com/mwaskom/seaborn-data/master/penguins.csv\")"
   ]
  },
  {
   "cell_type": "code",
   "execution_count": 180,
   "metadata": {},
   "outputs": [
    {
     "data": {
      "text/html": [
       "<div>\n",
       "<style scoped>\n",
       "    .dataframe tbody tr th:only-of-type {\n",
       "        vertical-align: middle;\n",
       "    }\n",
       "\n",
       "    .dataframe tbody tr th {\n",
       "        vertical-align: top;\n",
       "    }\n",
       "\n",
       "    .dataframe thead th {\n",
       "        text-align: right;\n",
       "    }\n",
       "</style>\n",
       "<table border=\"1\" class=\"dataframe\">\n",
       "  <thead>\n",
       "    <tr style=\"text-align: right;\">\n",
       "      <th></th>\n",
       "      <th>species</th>\n",
       "      <th>island</th>\n",
       "      <th>bill_length_mm</th>\n",
       "      <th>bill_depth_mm</th>\n",
       "      <th>flipper_length_mm</th>\n",
       "      <th>body_mass_g</th>\n",
       "      <th>sex</th>\n",
       "    </tr>\n",
       "  </thead>\n",
       "  <tbody>\n",
       "    <tr>\n",
       "      <th>53</th>\n",
       "      <td>Adelie</td>\n",
       "      <td>Biscoe</td>\n",
       "      <td>42.0</td>\n",
       "      <td>19.5</td>\n",
       "      <td>200.0</td>\n",
       "      <td>4050.0</td>\n",
       "      <td>MALE</td>\n",
       "    </tr>\n",
       "    <tr>\n",
       "      <th>92</th>\n",
       "      <td>Adelie</td>\n",
       "      <td>Dream</td>\n",
       "      <td>34.0</td>\n",
       "      <td>17.1</td>\n",
       "      <td>185.0</td>\n",
       "      <td>3400.0</td>\n",
       "      <td>FEMALE</td>\n",
       "    </tr>\n",
       "    <tr>\n",
       "      <th>308</th>\n",
       "      <td>Gentoo</td>\n",
       "      <td>Biscoe</td>\n",
       "      <td>47.5</td>\n",
       "      <td>14.0</td>\n",
       "      <td>212.0</td>\n",
       "      <td>4875.0</td>\n",
       "      <td>FEMALE</td>\n",
       "    </tr>\n",
       "    <tr>\n",
       "      <th>21</th>\n",
       "      <td>Adelie</td>\n",
       "      <td>Biscoe</td>\n",
       "      <td>37.7</td>\n",
       "      <td>18.7</td>\n",
       "      <td>180.0</td>\n",
       "      <td>3600.0</td>\n",
       "      <td>MALE</td>\n",
       "    </tr>\n",
       "    <tr>\n",
       "      <th>342</th>\n",
       "      <td>Gentoo</td>\n",
       "      <td>Biscoe</td>\n",
       "      <td>45.2</td>\n",
       "      <td>14.8</td>\n",
       "      <td>212.0</td>\n",
       "      <td>5200.0</td>\n",
       "      <td>FEMALE</td>\n",
       "    </tr>\n",
       "    <tr>\n",
       "      <th>110</th>\n",
       "      <td>Adelie</td>\n",
       "      <td>Biscoe</td>\n",
       "      <td>38.1</td>\n",
       "      <td>16.5</td>\n",
       "      <td>198.0</td>\n",
       "      <td>3825.0</td>\n",
       "      <td>FEMALE</td>\n",
       "    </tr>\n",
       "    <tr>\n",
       "      <th>145</th>\n",
       "      <td>Adelie</td>\n",
       "      <td>Dream</td>\n",
       "      <td>39.0</td>\n",
       "      <td>18.7</td>\n",
       "      <td>185.0</td>\n",
       "      <td>3650.0</td>\n",
       "      <td>MALE</td>\n",
       "    </tr>\n",
       "    <tr>\n",
       "      <th>111</th>\n",
       "      <td>Adelie</td>\n",
       "      <td>Biscoe</td>\n",
       "      <td>45.6</td>\n",
       "      <td>20.3</td>\n",
       "      <td>191.0</td>\n",
       "      <td>4600.0</td>\n",
       "      <td>MALE</td>\n",
       "    </tr>\n",
       "    <tr>\n",
       "      <th>116</th>\n",
       "      <td>Adelie</td>\n",
       "      <td>Torgersen</td>\n",
       "      <td>38.6</td>\n",
       "      <td>17.0</td>\n",
       "      <td>188.0</td>\n",
       "      <td>2900.0</td>\n",
       "      <td>FEMALE</td>\n",
       "    </tr>\n",
       "    <tr>\n",
       "      <th>183</th>\n",
       "      <td>Chinstrap</td>\n",
       "      <td>Dream</td>\n",
       "      <td>54.2</td>\n",
       "      <td>20.8</td>\n",
       "      <td>201.0</td>\n",
       "      <td>4300.0</td>\n",
       "      <td>MALE</td>\n",
       "    </tr>\n",
       "  </tbody>\n",
       "</table>\n",
       "</div>"
      ],
      "text/plain": [
       "       species     island  bill_length_mm  bill_depth_mm  flipper_length_mm  \\\n",
       "53      Adelie     Biscoe            42.0           19.5              200.0   \n",
       "92      Adelie      Dream            34.0           17.1              185.0   \n",
       "308     Gentoo     Biscoe            47.5           14.0              212.0   \n",
       "21      Adelie     Biscoe            37.7           18.7              180.0   \n",
       "342     Gentoo     Biscoe            45.2           14.8              212.0   \n",
       "110     Adelie     Biscoe            38.1           16.5              198.0   \n",
       "145     Adelie      Dream            39.0           18.7              185.0   \n",
       "111     Adelie     Biscoe            45.6           20.3              191.0   \n",
       "116     Adelie  Torgersen            38.6           17.0              188.0   \n",
       "183  Chinstrap      Dream            54.2           20.8              201.0   \n",
       "\n",
       "     body_mass_g     sex  \n",
       "53        4050.0    MALE  \n",
       "92        3400.0  FEMALE  \n",
       "308       4875.0  FEMALE  \n",
       "21        3600.0    MALE  \n",
       "342       5200.0  FEMALE  \n",
       "110       3825.0  FEMALE  \n",
       "145       3650.0    MALE  \n",
       "111       4600.0    MALE  \n",
       "116       2900.0  FEMALE  \n",
       "183       4300.0    MALE  "
      ]
     },
     "execution_count": 180,
     "metadata": {},
     "output_type": "execute_result"
    }
   ],
   "source": [
    "# output a sample of dataset \n",
    "data.sample(10)"
   ]
  },
  {
   "cell_type": "markdown",
   "metadata": {},
   "source": [
    "I would like to check out the number of unique penguin species, islands, and other variables in this dataset. "
   ]
  },
  {
   "cell_type": "code",
   "execution_count": 181,
   "metadata": {},
   "outputs": [
    {
     "data": {
      "text/plain": [
       "species                3\n",
       "island                 3\n",
       "bill_length_mm       164\n",
       "bill_depth_mm         80\n",
       "flipper_length_mm     55\n",
       "body_mass_g           94\n",
       "sex                    2\n",
       "dtype: int64"
      ]
     },
     "execution_count": 181,
     "metadata": {},
     "output_type": "execute_result"
    }
   ],
   "source": [
    "# Ref.[1]\n",
    "data.nunique()"
   ]
  },
  {
   "cell_type": "markdown",
   "metadata": {},
   "source": [
    "There are **3 species of penguins**, each with **2 sexes**, and **3 different islands** in the dataset. Additionally, there are 4 columns that contain various measurements of penguins, but since these measurements are continuous numbers, there is no point to count their unique values.\n",
    "\n",
    "Data stored in a data frame.  Each **row contains** the information of **one unique penguin** found on one of the three islands. Now I am going to use some functions to get more information of this dataset."
   ]
  },
  {
   "cell_type": "markdown",
   "metadata": {},
   "source": [
    "## Description of the dataset"
   ]
  },
  {
   "cell_type": "code",
   "execution_count": 182,
   "metadata": {},
   "outputs": [
    {
     "name": "stdout",
     "output_type": "stream",
     "text": [
      "<class 'pandas.core.frame.DataFrame'>\n",
      "RangeIndex: 344 entries, 0 to 343\n",
      "Data columns (total 7 columns):\n",
      " #   Column             Non-Null Count  Dtype  \n",
      "---  ------             --------------  -----  \n",
      " 0   species            344 non-null    object \n",
      " 1   island             344 non-null    object \n",
      " 2   bill_length_mm     342 non-null    float64\n",
      " 3   bill_depth_mm      342 non-null    float64\n",
      " 4   flipper_length_mm  342 non-null    float64\n",
      " 5   body_mass_g        342 non-null    float64\n",
      " 6   sex                333 non-null    object \n",
      "dtypes: float64(4), object(3)\n",
      "memory usage: 18.9+ KB\n"
     ]
    }
   ],
   "source": [
    "# information about the data\n",
    "# Ref.[2]\n",
    "data.info()"
   ]
  },
  {
   "cell_type": "code",
   "execution_count": 183,
   "metadata": {},
   "outputs": [
    {
     "data": {
      "text/plain": [
       "species               0\n",
       "island                0\n",
       "bill_length_mm        2\n",
       "bill_depth_mm         2\n",
       "flipper_length_mm     2\n",
       "body_mass_g           2\n",
       "sex                  11\n",
       "dtype: int64"
      ]
     },
     "execution_count": 183,
     "metadata": {},
     "output_type": "execute_result"
    }
   ],
   "source": [
    "# The data contains some NAN values. \n",
    "# I am using the isnull() method to check for the number of these values.\n",
    "# Ref.[3]\n",
    "data.isnull().sum()"
   ]
  },
  {
   "cell_type": "markdown",
   "metadata": {},
   "source": [
    "Some data is missing. As the percentage of acceptable loss was not given I allow that less than 5 %  is fine to ignore. Ref.[4]"
   ]
  },
  {
   "cell_type": "markdown",
   "metadata": {},
   "source": [
    "Now I am going to find out the share of missing values.\n",
    "Ref.[5]\n",
    "\n",
    "* *data.isna()* returns a DataFrame with True/False values, where True represents missing values.\n",
    "\n",
    "* If I take the *mean()* for each column, it will be calculated as the sum of 1s (TRUEs)   divided by the number of rows. It gives the the proportion of missing values for each column.\n",
    "\n",
    "* To find the percentage of missing values I multiply the result by 100"
   ]
  },
  {
   "cell_type": "code",
   "execution_count": 184,
   "metadata": {},
   "outputs": [
    {
     "data": {
      "text/plain": [
       "species              0.000000\n",
       "island               0.000000\n",
       "bill_length_mm       0.581395\n",
       "bill_depth_mm        0.581395\n",
       "flipper_length_mm    0.581395\n",
       "body_mass_g          0.581395\n",
       "sex                  3.197674\n",
       "dtype: float64"
      ]
     },
     "metadata": {},
     "output_type": "display_data"
    }
   ],
   "source": [
    "display(data.isna().mean()*100)"
   ]
  },
  {
   "cell_type": "code",
   "execution_count": 185,
   "metadata": {},
   "outputs": [
    {
     "data": {
      "text/plain": [
       "0"
      ]
     },
     "execution_count": 185,
     "metadata": {},
     "output_type": "execute_result"
    }
   ],
   "source": [
    "# Cheking for duplicates in rows:\n",
    "data.duplicated().sum()"
   ]
  },
  {
   "cell_type": "markdown",
   "metadata": {},
   "source": [
    "### Summary\n",
    "\n",
    "* Dataset contains 7 columns, 344 rows. \n",
    "\n",
    "* There are **3 species of penguins**, **2 sexes**, and **3 different islands** in the dataset.\n",
    "\n",
    "* The \"species\", \"island\", and \"sex\" columns contain the *object type* variables. The rest of the columns contain the *flot type* of variables.\n",
    "\n",
    "* The higer percentage of NaN values among the columns is less than 4 % of the data (column \"sex\"), that might be considered as acceptable.\n",
    "\n",
    "* The are no duplicated rows in the dataset."
   ]
  },
  {
   "cell_type": "markdown",
   "metadata": {},
   "source": [
    "## Exploring data distribution across various features"
   ]
  },
  {
   "cell_type": "markdown",
   "metadata": {},
   "source": [
    "Examining the distribution of data for specific variables involves analyzing how the values of those variables are spread or arranged across different possible outcomes or ranges. \n",
    "\n",
    "In the beginning, I would like to examine the distribution of various species across the three islands."
   ]
  },
  {
   "cell_type": "code",
   "execution_count": 209,
   "metadata": {},
   "outputs": [
    {
     "data": {
      "image/png": "[encoded data removed]",
      "text/plain": [
       "<Figure size 500x400 with 1 Axes>"
      ]
     },
     "metadata": {},
     "output_type": "display_data"
    }
   ],
   "source": [
    "plt.figure(figsize=(5, 4))\n",
    "sns.histplot(data= data, x= 'island', hue ='species' )\n",
    "plt.title('Distribution of penguin species across Islands')\n",
    "plt.xlabel('Islands')\n",
    "plt.ylabel('Number of species')\n",
    "plt.grid(True)\n",
    "plt.show()"
   ]
  },
  {
   "cell_type": "markdown",
   "metadata": {},
   "source": []
  },
  {
   "cell_type": "markdown",
   "metadata": {},
   "source": [
    "I am going to have a look at what is the most common **length of bill** of all penguins without specifying sex or species."
   ]
  },
  {
   "cell_type": "markdown",
   "metadata": {},
   "source": [
    "### Bill lengths across all penguin species"
   ]
  },
  {
   "cell_type": "code",
   "execution_count": null,
   "metadata": {},
   "outputs": [],
   "source": [
    "# The histogram below shows the distribution of data by feature \"bill_length_mm\".\n",
    "y = np.array(data['bill_length_mm']) \n",
    "plt.hist(y, bins= 'auto',edgecolor = \"black\",alpha = 0.3)\n",
    "plt.title(\"Distribution based on the characteristic of bill length.\")\n",
    "plt.xlabel(\"Bill length, mm\")\n",
    "plt.ylabel(\"Frequency\")\n",
    "plt.show()\n",
    "data['bill_length_mm'].describe()"
   ]
  },
  {
   "cell_type": "markdown",
   "metadata": {},
   "source": [
    "* The mean bill length is approximately 43.92 mm, with a standard deviation of 5.46 mm. \n",
    "\n",
    "* The bill lengths range from 32.1 to 59.6 millimeters, indicating a diverse range of sizes within the population.\n",
    " \n",
    "* The dataset exhibits a normal standart distribution, as reflected by the similarity between the mean and median values."
   ]
  },
  {
   "cell_type": "markdown",
   "metadata": {},
   "source": [
    "Now I would like to have a look at the distribution of the bill lengths among the species.\n",
    "\n",
    "### Comparison of bill lengths across different penguin species"
   ]
  },
  {
   "cell_type": "code",
   "execution_count": null,
   "metadata": {},
   "outputs": [],
   "source": [
    "# Checking the species we have in the dataset\n",
    "data['species'].value_counts() "
   ]
  },
  {
   "cell_type": "code",
   "execution_count": null,
   "metadata": {},
   "outputs": [],
   "source": [
    "# creating 3 dataframe with 3 species:\n",
    "adelie_data = data[data['species'] == 'Adelie']\n",
    "chinstrap_data = data[data['species'] == 'Chinstrap']\n",
    "gentoo_data = data[data['species'] == 'Gentoo']"
   ]
  },
  {
   "cell_type": "code",
   "execution_count": null,
   "metadata": {},
   "outputs": [],
   "source": [
    "type(adelie_data)"
   ]
  },
  {
   "cell_type": "code",
   "execution_count": null,
   "metadata": {},
   "outputs": [],
   "source": [
    "# creating np.array for displaying histograms\n",
    "adelie_y = np.array(adelie_data['bill_length_mm']) \n",
    "chinstrap_y = np.array(chinstrap_data['bill_length_mm'])\n",
    "gentoo_y = np.array(gentoo_data['bill_length_mm'])\n",
    "\n",
    "plt.hist(adelie_y, bins= 'auto',edgecolor = \"black\",alpha = 0.2, label = 'Adelie')\n",
    "plt.hist(gentoo_y, bins= 'auto',edgecolor = \"black\", alpha = 0.3,label='Gentoo')\n",
    "plt.hist(chinstrap_y, bins= 'auto',edgecolor = \"black\", alpha = 0.3, label= 'Chinstrap')\n",
    "\n",
    "plt.title(\"Distribution based on the characteristic of bill length\")\n",
    "plt.xlabel(\"Bill length,mm\")\n",
    "plt.ylabel(\"Frequency\")\n",
    "plt.legend()\n",
    "plt.show()\n",
    "\n",
    "\n",
    "# I will use \"describe\" method to get clear numbers.\n",
    "print(\"Adelie penguins(bill length).\",adelie_data['bill_length_mm'].describe())\n",
    "print('*************************')\n",
    "print(\"Chinstrap penguins(bill length).\", chinstrap_data['bill_length_mm'].describe())\n",
    "print('*************************')\n",
    "print(\"Gentoo penguins(bill length).\", gentoo_data['bill_length_mm'].describe())\n"
   ]
  },
  {
   "cell_type": "markdown",
   "metadata": {},
   "source": []
  },
  {
   "cell_type": "markdown",
   "metadata": {},
   "source": [
    "*****\n",
    "## Correlation between variables    "
   ]
  },
  {
   "cell_type": "code",
   "execution_count": null,
   "metadata": {},
   "outputs": [],
   "source": [
    "# https://www.statology.org/seaborn-title/\n",
    "\n",
    "plot= sns.relplot(x=\"bill_length_mm\", y='body_mass_g', col = \"species\", data=data,hue = \"sex\", kind = \"scatter\")\n"
   ]
  },
  {
   "cell_type": "markdown",
   "metadata": {},
   "source": [
    "### Coefficients of correlation  between variables \"bill_length_mm\" and \"body_mass_g\" for all 3 species together."
   ]
  },
  {
   "cell_type": "code",
   "execution_count": null,
   "metadata": {},
   "outputs": [],
   "source": [
    "# Reference: https://realpython.com/numpy-scipy-pandas-correlation-python/#example-numpy-correlation-calculation\n",
    "\n",
    "data['bill_length_mm'].corr(data['body_mass_g'])"
   ]
  },
  {
   "cell_type": "markdown",
   "metadata": {},
   "source": [
    "There is no doubt that male spicies are more likely to have higher body mass and bill length than female spicies.\n",
    "At the same time coefficients of correlation of 0.6 shows insignificant positive correlation between the variables.\n",
    "That means that somthimes we can say that bill length might be bigger when the mass of the penguins higher.\n",
    "On the scatter plots above we can observe that probabbly differernt species have different correlathion between these variables.\n",
    "It might be a good idea to calculate the coefficient of correlation separately for male and female for every species. However,it is required to filter the data. For now I am goiing to calculate the coefficient of correlation between all the quantitive variables for all the species together. For this purpose I am going to filter the data creating a df 'data_corr' with all the quantitive variables for all the species together.\n"
   ]
  },
  {
   "cell_type": "code",
   "execution_count": null,
   "metadata": {},
   "outputs": [],
   "source": [
    "data_corr = data[['bill_length_mm','bill_depth_mm','flipper_length_mm','body_mass_g']]\n",
    "data_corr.head(2)"
   ]
  },
  {
   "cell_type": "markdown",
   "metadata": {},
   "source": [
    "### Creating a scatterplot matrix of the correlation between all the quantitive variables of all the species together."
   ]
  },
  {
   "cell_type": "code",
   "execution_count": null,
   "metadata": {},
   "outputs": [],
   "source": [
    "# ref.: https://pandas.pydata.org/docs/reference/api/pandas.plotting.scatter_matrix.html\n",
    "\n",
    "correlation_matrix = pd.plotting.scatter_matrix(data_corr, figsize=(9, 9))\n",
    "\n"
   ]
  },
  {
   "cell_type": "code",
   "execution_count": null,
   "metadata": {},
   "outputs": [],
   "source": [
    "# Reference: https://www.w3schools.com/python/pandas/pandas_correlations.asp#:~:text=The%20corr()%20method%20calculates,%3A%20'data.csv'.\n",
    "# Calculating the coefficient of correlation between all the quantitive variables of all the species together.\n",
    "\n",
    "Corr_Matrix = round(data_corr.corr(),2)\n",
    "display(Corr_Matrix)"
   ]
  },
  {
   "cell_type": "markdown",
   "metadata": {},
   "source": [
    "The correlation between the measurements of all penguin species is quite general. However, based on the correlation coefficients provided above, there is a strong correlation (0.87) between flipper length and body mass. This means that as the body mass of penguins increases, so does their flipper length. Additionally, a positive correlation (0.66) is observed between flipper length and bill length anf between the body mass and bill length."
   ]
  },
  {
   "cell_type": "code",
   "execution_count": null,
   "metadata": {},
   "outputs": [],
   "source": []
  },
  {
   "cell_type": "markdown",
   "metadata": {},
   "source": [
    "***\n",
    "\n",
    "# End\n"
   ]
  },
  {
   "cell_type": "code",
   "execution_count": null,
   "metadata": {},
   "outputs": [],
   "source": []
  }
 ],
 "metadata": {
  "kernelspec": {
   "display_name": "Python 3",
   "language": "python",
   "name": "python3"
  },
  "language_info": {
   "codemirror_mode": {
    "name": "ipython",
    "version": 3
   },
   "file_extension": ".py",
   "mimetype": "text/x-python",
   "name": "python",
   "nbconvert_exporter": "python",
   "pygments_lexer": "ipython3",
   "version": "3.11.5"
  }
 },
 "nbformat": 4,
 "nbformat_minor": 2
}
